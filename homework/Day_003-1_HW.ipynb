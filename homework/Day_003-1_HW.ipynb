{
 "cells": [
  {
   "cell_type": "markdown",
   "metadata": {},
   "source": [
    "# [作業目標]\n",
    "- 利用範例的創建方式, 創建一組資料, 並練習如何取出最大值"
   ]
  },
  {
   "cell_type": "markdown",
   "metadata": {},
   "source": [
    "# [作業重點]\n",
    "- 練習創立 DataFrame (In[2])\n",
    "- 如何取出口數最多的國家 (In[3], Out[3])"
   ]
  },
  {
   "cell_type": "markdown",
   "metadata": {},
   "source": [
    "## 練習時間\n",
    "在小量的資料上，我們用眼睛就可以看得出來程式碼是否有跑出我們理想中的結果\n",
    "\n",
    "請嘗試想像一個你需要的資料結構 (裡面的值可以是隨機的)，然後用上述的方法把它變成 pandas DataFrame\n",
    "\n",
    "#### Ex: 想像一個 dataframe 有兩個欄位，一個是國家，一個是人口，求人口數最多的國家\n",
    "\n",
    "### Hints: [隨機產生數值](https://blog.csdn.net/christianashannon/article/details/78867204)"
   ]
  },
  {
   "cell_type": "code",
   "execution_count": 89,
   "metadata": {},
   "outputs": [],
   "source": [
    "import pandas as pd\n",
    "import numpy as np"
   ]
  },
  {
   "cell_type": "code",
   "execution_count": 90,
   "metadata": {},
   "outputs": [
    {
     "name": "stdout",
     "output_type": "stream",
     "text": [
      "   班級  人數\n",
      "0   1  28\n",
      "1   2  24\n",
      "2   3  21\n",
      "3   4  23\n",
      "4   5  20\n",
      "5   6  20\n",
      "6   7  21\n",
      "7   8  25\n",
      "8   9  23\n",
      "9  10  20\n"
     ]
    }
   ],
   "source": [
    "CLASS_NUMBER = 10 #總共10個班級\n",
    "STUDENT_MIN = 20 #每個班級最多的人數\n",
    "STUDENT_MAX = 30 #每個班級最多的人數\n",
    "\n",
    "class_id = np.arange(1,CLASS_NUMBER+1,1,dtype=np.int32) #班級編號 1-10\n",
    "student_number = np.random.randint(STUDENT_MIN,STUDENT_MAX,size=CLASS_NUMBER) #班級人數 20-30人\n",
    "\n",
    "list_labels = ['班級','人數']\n",
    "list_cols = [class_id , student_number]\n",
    "\n",
    "zipped = list(zip(list_labels, list_cols))\n",
    "all_class = pd.DataFrame(dict(zipped))\n",
    "\n",
    "print(all_class)"
   ]
  },
  {
   "cell_type": "code",
   "execution_count": 91,
   "metadata": {},
   "outputs": [
    {
     "name": "stdout",
     "output_type": "stream",
     "text": [
      "班級人數最多的班級為1班，總共有28人\n"
     ]
    }
   ],
   "source": [
    "max_number = all_class.loc[all_class['人數'].idxmax()]\n",
    "print('班級人數最多的班級為%d班，總共有%d人'%(max_number.班級,max_number.人數))"
   ]
  }
 ],
 "metadata": {
  "kernelspec": {
   "display_name": "Python 3",
   "language": "python",
   "name": "python3"
  },
  "language_info": {
   "codemirror_mode": {
    "name": "ipython",
    "version": 3
   },
   "file_extension": ".py",
   "mimetype": "text/x-python",
   "name": "python",
   "nbconvert_exporter": "python",
   "pygments_lexer": "ipython3",
   "version": "3.7.3"
  }
 },
 "nbformat": 4,
 "nbformat_minor": 2
}
